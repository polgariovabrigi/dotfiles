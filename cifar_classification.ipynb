{
  "nbformat": 4,
  "nbformat_minor": 0,
  "metadata": {
    "accelerator": "GPU",
    "colab": {
      "name": "cifar_classification.ipynb",
      "provenance": [],
      "collapsed_sections": [],
      "toc_visible": true,
      "include_colab_link": true
    },
    "kernelspec": {
      "display_name": "Python 3",
      "language": "python",
      "name": "python3"
    },
    "language_info": {
      "codemirror_mode": {
        "name": "ipython",
        "version": 3
      },
      "file_extension": ".py",
      "mimetype": "text/x-python",
      "name": "python",
      "nbconvert_exporter": "python",
      "pygments_lexer": "ipython3",
      "version": "3.8.6"
    },
    "toc": {
      "base_numbering": 1,
      "nav_menu": {},
      "number_sections": false,
      "sideBar": true,
      "skip_h1_title": false,
      "title_cell": "Table of Contents",
      "title_sidebar": "Contents",
      "toc_cell": false,
      "toc_position": {},
      "toc_section_display": true,
      "toc_window_display": true
    },
    "varInspector": {
      "cols": {
        "lenName": 16,
        "lenType": 16,
        "lenVar": 40
      },
      "kernels_config": {
        "python": {
          "delete_cmd_postfix": "",
          "delete_cmd_prefix": "del ",
          "library": "var_list.py",
          "varRefreshCmd": "print(var_dic_list())"
        },
        "r": {
          "delete_cmd_postfix": ") ",
          "delete_cmd_prefix": "rm(",
          "library": "var_list.r",
          "varRefreshCmd": "cat(var_dic_list()) "
        }
      },
      "types_to_exclude": [
        "module",
        "function",
        "builtin_function_or_method",
        "instance",
        "_Feature"
      ],
      "window_display": false
    }
  },
  "cells": [
    {
      "cell_type": "markdown",
      "metadata": {
        "id": "view-in-github",
        "colab_type": "text"
      },
      "source": [
        "<a href=\"https://colab.research.google.com/github/polgariovabrigi/dotfiles/blob/master/cifar_classification.ipynb\" target=\"_parent\"><img src=\"https://colab.research.google.com/assets/colab-badge.svg\" alt=\"Open In Colab\"/></a>"
      ]
    },
    {
      "cell_type": "markdown",
      "metadata": {
        "collapsed": true,
        "id": "eEt4AJqKVj0v"
      },
      "source": [
        "# CIFAR Classification\n",
        "\n",
        "### Exercise objectives\n",
        "\n",
        "- Implement a CNN for a 10-class classification problem\n",
        "- Enhance the CNN performance with data augmentation techniques\n",
        "- Experiment the acceleration of GPU for image processing (Google Colab)\n",
        "\n",
        "<hr>\n",
        "<hr>\n",
        "\n",
        "You should now have a better feeling of how a CNN is working, and especially how the convolutions are affecting the image to detect specific features. Therefore, let's now play with a bit more complex images. \n",
        "\n",
        "The CIFAR-10 dataset is a dataset that contains images of 10 different classes \n",
        "\n",
        "<img src=\"https://people.minesparis.psl.eu/fabien.moutarde/ES_MachineLearning/mini-projets/cifar10_notebook_fichiers/cifar_10.png\">\n",
        "\n",
        "This dataset is emblematic in the research community as many enhancements for image problems have been achieved on this dataset, and later on the CIFAR-100 dataset once the performance got too high. You can check the [wikipedia](https://en.wikipedia.org/wiki/CIFAR-10) page of the dataset if you want to know more about it.\n",
        "\n",
        "In this notebook, we propose to implement a CNN to distinguish the 10 categories from the CIFAR-10 dataset. Again, remember that until 10 years ago, this problem was very challenging to the entire research community and is now for you to tackle.\n"
      ]
    },
    {
      "cell_type": "markdown",
      "metadata": {
        "id": "OE3R20SasW6i"
      },
      "source": [
        "## 0. Colab\n",
        "\n",
        "**First, make sure to use GPU acceleration** by clicking on `\"Runtime --> Change runtime --> GPU\"` if you are on Colab. "
      ]
    },
    {
      "cell_type": "markdown",
      "metadata": {
        "collapsed": true,
        "id": "ZY44N5e6T2Il"
      },
      "source": [
        "## 1. Data\n",
        "\n",
        "We'll take care of data loading and preprocessing for you. Just run the following cells and make sure you understand them"
      ]
    },
    {
      "cell_type": "code",
      "metadata": {
        "ExecuteTime": {
          "end_time": "2021-04-28T17:24:01.063283Z",
          "start_time": "2021-04-28T17:23:56.485483Z"
        },
        "colab": {
          "base_uri": "https://localhost:8080/"
        },
        "id": "ZkKdhZXWVj00",
        "outputId": "1d060b64-bf6f-4332-de08-967248b2283c"
      },
      "source": [
        "from tensorflow.keras.datasets import cifar10\n",
        "import numpy as np\n",
        "\n",
        "(images_train, labels_train), (images_test, labels_test) = cifar10.load_data()\n",
        "labels = ['airplane', 'automobile', 'bird', 'cat', 'deer',\n",
        "               'dog', 'frog', 'horse', 'ship', 'truck']\n",
        "\n",
        "print(images_train.shape, images_test.shape)\n",
        "unique, counts = np.unique(labels_train, return_counts=True)\n",
        "dict(zip(unique, counts))"
      ],
      "execution_count": 4,
      "outputs": [
        {
          "output_type": "stream",
          "name": "stdout",
          "text": [
            "Downloading data from https://www.cs.toronto.edu/~kriz/cifar-10-python.tar.gz\n",
            "170500096/170498071 [==============================] - 2s 0us/step\n",
            "170508288/170498071 [==============================] - 2s 0us/step\n",
            "(50000, 32, 32, 3) (10000, 32, 32, 3)\n"
          ]
        },
        {
          "output_type": "execute_result",
          "data": {
            "text/plain": [
              "{0: 5000,\n",
              " 1: 5000,\n",
              " 2: 5000,\n",
              " 3: 5000,\n",
              " 4: 5000,\n",
              " 5: 5000,\n",
              " 6: 5000,\n",
              " 7: 5000,\n",
              " 8: 5000,\n",
              " 9: 5000}"
            ]
          },
          "metadata": {},
          "execution_count": 4
        }
      ]
    },
    {
      "cell_type": "markdown",
      "metadata": {
        "id": "ZI_3K-MHT2In"
      },
      "source": [
        "❗️ 50,000 images may take a long time to train: **Always start with a subsample to iterate quickly** before scaling up\n",
        "\n",
        "Below, we divide the dataset size by `reduction_factor=10`. Don't try to increase it unless we ask you too."
      ]
    },
    {
      "cell_type": "code",
      "metadata": {
        "ExecuteTime": {
          "end_time": "2021-04-28T18:14:07.619432Z",
          "start_time": "2021-04-28T18:14:07.022874Z"
        },
        "colab": {
          "base_uri": "https://localhost:8080/"
        },
        "id": "wR_JXHmlT2Io",
        "outputId": "c2b49671-40ea-4edb-a062-e7195ebe4f43"
      },
      "source": [
        "# Reduce size\n",
        "reduction_factor = 10\n",
        "\n",
        "idx_train =  np.random.choice(len(images_train), round(len(images_train)/reduction_factor))\n",
        "idx_test =  np.random.choice(len(images_test), round(len(images_test)/reduction_factor))\n",
        "\n",
        "images_train_small = images_train[idx_train]\n",
        "images_test_small = images_test[idx_test]\n",
        "labels_train_small = labels_train[idx_train]\n",
        "labels_test_small = labels_test[idx_test]\n",
        "\n",
        "print(images_train.shape, images_test.shape)\n",
        "unique, counts = np.unique(labels_train_small, return_counts=True)\n",
        "dict(zip(unique, counts))"
      ],
      "execution_count": 5,
      "outputs": [
        {
          "output_type": "stream",
          "name": "stdout",
          "text": [
            "(50000, 32, 32, 3) (10000, 32, 32, 3)\n"
          ]
        },
        {
          "output_type": "execute_result",
          "data": {
            "text/plain": [
              "{0: 543,\n",
              " 1: 461,\n",
              " 2: 521,\n",
              " 3: 459,\n",
              " 4: 491,\n",
              " 5: 519,\n",
              " 6: 484,\n",
              " 7: 506,\n",
              " 8: 493,\n",
              " 9: 523}"
            ]
          },
          "metadata": {},
          "execution_count": 5
        }
      ]
    },
    {
      "cell_type": "code",
      "metadata": {
        "ExecuteTime": {
          "end_time": "2021-04-28T17:25:40.424504Z",
          "start_time": "2021-04-28T17:25:40.022376Z"
        },
        "colab": {
          "base_uri": "https://localhost:8080/",
          "height": 183
        },
        "id": "hQ62jK5VVj03",
        "outputId": "2e259890-9f0c-48d6-dd9a-85c9b3618f1a"
      },
      "source": [
        "# Let's plot few images to see what they look like\n",
        "import matplotlib.pyplot as plt\n",
        "\n",
        "plt.figure(figsize=(15,5))\n",
        "for i in range(6):\n",
        "    plt.subplot(1,6, i+1)\n",
        "    img = images_train[i]\n",
        "    label = labels_train[i][0]\n",
        "    plt.imshow(img)\n",
        "    plt.title(labels[label])"
      ],
      "execution_count": 6,
      "outputs": [
        {
          "output_type": "display_data",
          "data": {
            "image/png": "[encoded data removed]",
            "text/plain": [
              "<Figure size 1080x360 with 6 Axes>"
            ]
          },
          "metadata": {
            "needs_background": "light"
          }
        }
      ]
    },
    {
      "cell_type": "markdown",
      "metadata": {
        "id": "WMG4ttoHVj02"
      },
      "source": [
        "And, as usual,\n",
        "- we normalize the data between 0 and 1\n",
        "- we create `y` as one-hot-encoded version of `labels`"
      ]
    },
    {
      "cell_type": "code",
      "metadata": {
        "ExecuteTime": {
          "end_time": "2021-04-28T17:30:36.240227Z",
          "start_time": "2021-04-28T17:30:34.949442Z"
        },
        "id": "Fm8XRTbiVj02"
      },
      "source": [
        "X_train = images_train / 255.\n",
        "X_train_small = images_train_small / 255.\n",
        "X_test = images_test / 255.\n",
        "X_test_small = images_test_small / 255.\n",
        "\n",
        "from tensorflow.keras.utils import to_categorical\n",
        "y_train = to_categorical(labels_train, 10)\n",
        "y_train_small = to_categorical(labels_train_small, 10)\n",
        "y_test = to_categorical(labels_test, 10)\n",
        "y_test_small = to_categorical(labels_test_small, 10)"
      ],
      "execution_count": 12,
      "outputs": []
    },
    {
      "cell_type": "code",
      "metadata": {
        "colab": {
          "base_uri": "https://localhost:8080/"
        },
        "id": "Wy8ffT4srG3f",
        "outputId": "6d868cda-5a8f-4e5e-fe73-176b5a949f1e"
      },
      "source": [
        "X_train_small.shape"
      ],
      "execution_count": 23,
      "outputs": [
        {
          "output_type": "execute_result",
          "data": {
            "text/plain": [
              "(5000, 32, 32, 3)"
            ]
          },
          "metadata": {},
          "execution_count": 23
        }
      ]
    },
    {
      "cell_type": "code",
      "metadata": {
        "colab": {
          "base_uri": "https://localhost:8080/"
        },
        "id": "SiaUR-ASrJzV",
        "outputId": "952be355-0c7c-48c6-8ba8-d879503df722"
      },
      "source": [
        "y_train_small.shape"
      ],
      "execution_count": 20,
      "outputs": [
        {
          "output_type": "execute_result",
          "data": {
            "text/plain": [
              "(5000, 10)"
            ]
          },
          "metadata": {},
          "execution_count": 20
        }
      ]
    },
    {
      "cell_type": "markdown",
      "metadata": {
        "id": "ke9YJk7MVj04"
      },
      "source": [
        "## 2. Iterate on your CNN architecture using your small training set\n",
        "\n",
        "\n",
        "❓ **Question** ❓ Your turn to shine!\n",
        "\n",
        "- Define the CNN architecture of your choice in a method `initialize_model()`\n",
        "- Compile your model in a method `compile_model()`:\n",
        "- Fit it on your **small** training set **only**\n",
        "- Store the output of the fit in an `history` variable\n",
        "- Try a first model yourself, before looking at PRO TIPS below\n",
        " \n",
        "<details>\n",
        "    <summary> 🆘 PRO TIPS 🆘  </summary>\n",
        "\n",
        "\n",
        "- Do not forget to add the input shape of your data to the first layer: it has 3 colors\n",
        "- Start simple, complexify after few trials to get better results\n",
        "- The task is complex: Try at least 3 or 4 convolutions\n",
        "- Kernel size do not need to be large for such small picture resolution!\n",
        "- Add some Maxpooling (but not too much else the activation \"image\" will become too small)\n",
        "- Keep padding = 'same' and 'stride' = (1,1) to start with.\n",
        "- Once your model overfits, try adding some dropout layer to regularize the network. A good tip is too increase dropout strengh as you move closer to the output, so as not to overfit on your end-result\n",
        "- Images are so small, that you can use larger batch size (32 or 64) to benefit from even more GPU parallelization\n",
        "</details>\n"
      ]
    },
    {
      "cell_type": "code",
      "metadata": {
        "id": "GNOtE5xhVj04"
      },
      "source": [
        "from tensorflow.keras import models\n",
        "from tensorflow.keras import Sequential, layers\n",
        "\n",
        "def initialize_model():\n",
        "    '''instanciate and return the CNN architecture of your choice with less than 150,000 params'''\n",
        "    model = Sequential()\n",
        "    model.add(layers.Conv2D(16, (2,2), input_shape=(32, 32, 3), activation=\"relu\"))\n",
        "    model.add(layers.MaxPool2D(pool_size=(2,2))) \n",
        "    model.add(layers.Conv2D(16, (2,2), activation=\"relu\"))\n",
        "    model.add(layers.MaxPool2D(pool_size=(2,2))) \n",
        "    model.add(layers.Conv2D(16, (2,2), activation=\"relu\"))\n",
        "    model.add(layers.MaxPool2D(pool_size=(2,2))) \n",
        "    model.add(layers.Flatten())\n",
        "    model.add(layers.Dense(6, activation='relu'))\n",
        "    model.add(layers.Dense(10, activation='softmax')) \n",
        "    return model"
      ],
      "execution_count": 24,
      "outputs": []
    },
    {
      "cell_type": "code",
      "metadata": {
        "id": "7C9AL4uBT2Iq"
      },
      "source": [
        "def compile_model(model):\n",
        "    '''return a compiled model suited for the cifar tasks'''\n",
        "    model.compile(loss='categorical_crossentropy',\n",
        "              optimizer='adam',\n",
        "              metrics=['accuracy'])\n",
        "    return model"
      ],
      "execution_count": 25,
      "outputs": []
    },
    {
      "cell_type": "markdown",
      "metadata": {
        "id": "YcPQtVjdVj06"
      },
      "source": [
        "❓ **Question** ❓ Run the following function on the previous history (keep the default arguments, these are intended for future plots in the notebook)."
      ]
    },
    {
      "cell_type": "code",
      "metadata": {
        "id": "lIR_L7UfVj06"
      },
      "source": [
        "def plot_history(history, title='', axs=None, exp_name=\"\"):\n",
        "    if axs is not None:\n",
        "        ax1, ax2 = axs\n",
        "    else:\n",
        "        f, (ax1, ax2) = plt.subplots(1, 2, figsize=(12, 4))\n",
        "    \n",
        "    if len(exp_name) > 0 and exp_name[0] != '_':\n",
        "        exp_name = '_' + exp_name\n",
        "    ax1.plot(history.history['loss'], label='train' + exp_name)\n",
        "    ax1.plot(history.history['val_loss'], label='val' + exp_name)\n",
        "    ax1.set_ylim(0., 2.2)\n",
        "    ax1.set_title('loss')\n",
        "    ax1.legend()\n",
        "\n",
        "    ax2.plot(history.history['accuracy'], label='train accuracy'  + exp_name)\n",
        "    ax2.plot(history.history['val_accuracy'], label='val accuracy'  + exp_name)\n",
        "    ax2.set_ylim(0.25, 1.)\n",
        "    ax2.set_title('Accuracy')\n",
        "    ax2.legend()\n",
        "    return (ax1, ax2)"
      ],
      "execution_count": 26,
      "outputs": []
    },
    {
      "cell_type": "markdown",
      "metadata": {
        "id": "OR7l9LxMVj07"
      },
      "source": [
        "❓ **Question** ❓ Evaluate your model on the test data and compare it with baseline. Are you satisfied with these performances ? Look at PRO TIPS above and iterate a bit if you want to improve!"
      ]
    },
    {
      "cell_type": "code",
      "metadata": {
        "colab": {
          "base_uri": "https://localhost:8080/"
        },
        "id": "WwnwvmV5Vj08",
        "tags": [
          "challengify"
        ],
        "outputId": "0d504d8e-e8d5-417e-84e6-a89fb3d9be3b"
      },
      "source": [
        "# YOUR CODE HERE\n",
        "from tensorflow.keras import callbacks\n",
        "\n",
        "model = initialize_model()\n",
        "print(model)\n",
        "model = compile_model(model)\n",
        "print(model)\n",
        "\n",
        "es = callbacks.EarlyStopping(patience=30, restore_best_weights=True)\n",
        "\n",
        "\n",
        "history = model.fit(X_train_small, y_train_small,\n",
        "          epochs=300,\n",
        "          batch_size=16, \n",
        "          validation_split=0.3,\n",
        "          callbacks=[es],\n",
        "          verbose=1)\n",
        "\n"
      ],
      "execution_count": 28,
      "outputs": [
        {
          "output_type": "stream",
          "name": "stdout",
          "text": [
            "<keras.engine.sequential.Sequential object at 0x7f9b0555a7d0>\n",
            "<keras.engine.sequential.Sequential object at 0x7f9b0555a7d0>\n",
            "Epoch 1/300\n",
            "157/157 [==============================] - 2s 6ms/step - loss: 2.2750 - accuracy: 0.1408\n",
            "Epoch 2/300\n",
            "157/157 [==============================] - 1s 6ms/step - loss: 2.1372 - accuracy: 0.1940\n",
            "Epoch 3/300\n",
            "157/157 [==============================] - 1s 6ms/step - loss: 1.9925 - accuracy: 0.2406\n",
            "Epoch 4/300\n",
            "157/157 [==============================] - 1s 6ms/step - loss: 1.8999 - accuracy: 0.2926\n",
            "Epoch 5/300\n",
            "157/157 [==============================] - 1s 6ms/step - loss: 1.8120 - accuracy: 0.3114\n",
            "Epoch 6/300\n",
            "157/157 [==============================] - 1s 6ms/step - loss: 1.7723 - accuracy: 0.3212\n",
            "Epoch 7/300\n",
            "157/157 [==============================] - 1s 6ms/step - loss: 1.7266 - accuracy: 0.3470\n",
            "Epoch 8/300\n",
            "157/157 [==============================] - 1s 6ms/step - loss: 1.6855 - accuracy: 0.3570\n",
            "Epoch 9/300\n",
            "157/157 [==============================] - 1s 6ms/step - loss: 1.6559 - accuracy: 0.3698\n",
            "Epoch 10/300\n",
            "157/157 [==============================] - 1s 6ms/step - loss: 1.6210 - accuracy: 0.3912\n",
            "Epoch 11/300\n",
            "157/157 [==============================] - 1s 6ms/step - loss: 1.6030 - accuracy: 0.4060\n",
            "Epoch 12/300\n",
            "157/157 [==============================] - 1s 6ms/step - loss: 1.5750 - accuracy: 0.4154\n",
            "Epoch 13/300\n",
            "157/157 [==============================] - 1s 6ms/step - loss: 1.5387 - accuracy: 0.4240\n",
            "Epoch 14/300\n",
            "157/157 [==============================] - 1s 6ms/step - loss: 1.5284 - accuracy: 0.4296\n",
            "Epoch 15/300\n",
            "157/157 [==============================] - 1s 6ms/step - loss: 1.5037 - accuracy: 0.4408\n",
            "Epoch 16/300\n",
            "157/157 [==============================] - 1s 6ms/step - loss: 1.4892 - accuracy: 0.4416\n",
            "Epoch 17/300\n",
            "157/157 [==============================] - 1s 6ms/step - loss: 1.4557 - accuracy: 0.4660\n",
            "Epoch 18/300\n",
            "157/157 [==============================] - 1s 6ms/step - loss: 1.4460 - accuracy: 0.4628\n",
            "Epoch 19/300\n",
            "157/157 [==============================] - 1s 6ms/step - loss: 1.4164 - accuracy: 0.4730\n",
            "Epoch 20/300\n",
            "157/157 [==============================] - 1s 6ms/step - loss: 1.4088 - accuracy: 0.4760\n",
            "Epoch 21/300\n",
            "157/157 [==============================] - 1s 6ms/step - loss: 1.3837 - accuracy: 0.4872\n",
            "Epoch 22/300\n",
            "157/157 [==============================] - 1s 6ms/step - loss: 1.3745 - accuracy: 0.4938\n",
            "Epoch 23/300\n",
            "157/157 [==============================] - 1s 6ms/step - loss: 1.3602 - accuracy: 0.4954\n",
            "Epoch 24/300\n",
            "157/157 [==============================] - 1s 6ms/step - loss: 1.3559 - accuracy: 0.4972\n",
            "Epoch 25/300\n",
            "157/157 [==============================] - 1s 6ms/step - loss: 1.3461 - accuracy: 0.4966\n",
            "Epoch 26/300\n",
            "157/157 [==============================] - 1s 6ms/step - loss: 1.3304 - accuracy: 0.5034\n",
            "Epoch 27/300\n",
            "157/157 [==============================] - 1s 6ms/step - loss: 1.3091 - accuracy: 0.5106\n",
            "Epoch 28/300\n",
            "157/157 [==============================] - 1s 6ms/step - loss: 1.3084 - accuracy: 0.5206\n",
            "Epoch 29/300\n",
            "157/157 [==============================] - 1s 6ms/step - loss: 1.2948 - accuracy: 0.5164\n",
            "Epoch 30/300\n",
            "157/157 [==============================] - 1s 6ms/step - loss: 1.2902 - accuracy: 0.5242\n",
            "Epoch 31/300\n",
            "157/157 [==============================] - 1s 6ms/step - loss: 1.2753 - accuracy: 0.5322\n",
            "Epoch 32/300\n",
            "157/157 [==============================] - 1s 6ms/step - loss: 1.2760 - accuracy: 0.5290\n",
            "Epoch 33/300\n",
            "157/157 [==============================] - 1s 6ms/step - loss: 1.2750 - accuracy: 0.5302\n",
            "Epoch 34/300\n",
            "157/157 [==============================] - 1s 6ms/step - loss: 1.2545 - accuracy: 0.5366\n",
            "Epoch 35/300\n",
            "157/157 [==============================] - 1s 6ms/step - loss: 1.2493 - accuracy: 0.5358\n",
            "Epoch 36/300\n",
            "157/157 [==============================] - 1s 6ms/step - loss: 1.2267 - accuracy: 0.5462\n",
            "Epoch 37/300\n",
            "157/157 [==============================] - 1s 6ms/step - loss: 1.2305 - accuracy: 0.5450\n",
            "Epoch 38/300\n",
            "157/157 [==============================] - 1s 6ms/step - loss: 1.2174 - accuracy: 0.5492\n",
            "Epoch 39/300\n",
            "157/157 [==============================] - 1s 6ms/step - loss: 1.2148 - accuracy: 0.5484\n",
            "Epoch 40/300\n",
            "157/157 [==============================] - 1s 6ms/step - loss: 1.2215 - accuracy: 0.5490\n",
            "Epoch 41/300\n",
            "157/157 [==============================] - 1s 6ms/step - loss: 1.2015 - accuracy: 0.5550\n",
            "Epoch 42/300\n",
            "157/157 [==============================] - 1s 6ms/step - loss: 1.1898 - accuracy: 0.5578\n",
            "Epoch 43/300\n",
            "157/157 [==============================] - 1s 6ms/step - loss: 1.1920 - accuracy: 0.5558\n",
            "Epoch 44/300\n",
            "157/157 [==============================] - 1s 6ms/step - loss: 1.1834 - accuracy: 0.5640\n",
            "Epoch 45/300\n",
            "157/157 [==============================] - 1s 6ms/step - loss: 1.1886 - accuracy: 0.5616\n",
            "Epoch 46/300\n",
            "157/157 [==============================] - 1s 6ms/step - loss: 1.1731 - accuracy: 0.5622\n",
            "Epoch 47/300\n",
            "157/157 [==============================] - 1s 6ms/step - loss: 1.1583 - accuracy: 0.5670\n",
            "Epoch 48/300\n",
            "157/157 [==============================] - 1s 6ms/step - loss: 1.1598 - accuracy: 0.5668\n",
            "Epoch 49/300\n",
            "157/157 [==============================] - 1s 6ms/step - loss: 1.1527 - accuracy: 0.5744\n",
            "Epoch 50/300\n",
            "157/157 [==============================] - 1s 6ms/step - loss: 1.1539 - accuracy: 0.5732\n",
            "Epoch 51/300\n",
            "157/157 [==============================] - 1s 6ms/step - loss: 1.1463 - accuracy: 0.5722\n",
            "Epoch 52/300\n",
            "157/157 [==============================] - 1s 6ms/step - loss: 1.1358 - accuracy: 0.5764\n",
            "Epoch 53/300\n",
            "157/157 [==============================] - 1s 6ms/step - loss: 1.1311 - accuracy: 0.5790\n",
            "Epoch 54/300\n",
            "157/157 [==============================] - 1s 6ms/step - loss: 1.1265 - accuracy: 0.5806\n",
            "Epoch 55/300\n",
            "157/157 [==============================] - 1s 6ms/step - loss: 1.1265 - accuracy: 0.5800\n",
            "Epoch 56/300\n",
            "157/157 [==============================] - 1s 6ms/step - loss: 1.1293 - accuracy: 0.5798\n",
            "Epoch 57/300\n",
            "157/157 [==============================] - 1s 6ms/step - loss: 1.1130 - accuracy: 0.5874\n",
            "Epoch 58/300\n",
            "157/157 [==============================] - 1s 6ms/step - loss: 1.1147 - accuracy: 0.5742\n",
            "Epoch 59/300\n",
            "157/157 [==============================] - 1s 6ms/step - loss: 1.0978 - accuracy: 0.5976\n",
            "Epoch 60/300\n",
            "157/157 [==============================] - 1s 6ms/step - loss: 1.1070 - accuracy: 0.5884\n",
            "Epoch 61/300\n",
            "157/157 [==============================] - 1s 6ms/step - loss: 1.0927 - accuracy: 0.5906\n",
            "Epoch 62/300\n",
            "157/157 [==============================] - 1s 6ms/step - loss: 1.0915 - accuracy: 0.5986\n",
            "Epoch 63/300\n",
            "157/157 [==============================] - 1s 6ms/step - loss: 1.0971 - accuracy: 0.5964\n",
            "Epoch 64/300\n",
            "157/157 [==============================] - 1s 6ms/step - loss: 1.0817 - accuracy: 0.5920\n",
            "Epoch 65/300\n",
            "157/157 [==============================] - 1s 6ms/step - loss: 1.0803 - accuracy: 0.6026\n",
            "Epoch 66/300\n",
            "157/157 [==============================] - 1s 6ms/step - loss: 1.0664 - accuracy: 0.6094\n",
            "Epoch 67/300\n",
            "157/157 [==============================] - 1s 6ms/step - loss: 1.0762 - accuracy: 0.5976\n",
            "Epoch 68/300\n",
            "157/157 [==============================] - 1s 6ms/step - loss: 1.0730 - accuracy: 0.6030\n",
            "Epoch 69/300\n",
            "157/157 [==============================] - 1s 6ms/step - loss: 1.0688 - accuracy: 0.6044\n",
            "Epoch 70/300\n",
            "157/157 [==============================] - 1s 6ms/step - loss: 1.0601 - accuracy: 0.6114\n",
            "Epoch 71/300\n",
            "157/157 [==============================] - 1s 6ms/step - loss: 1.0528 - accuracy: 0.6074\n",
            "Epoch 72/300\n",
            "157/157 [==============================] - 1s 6ms/step - loss: 1.0491 - accuracy: 0.6102\n",
            "Epoch 73/300\n",
            "157/157 [==============================] - 1s 6ms/step - loss: 1.0546 - accuracy: 0.6076\n",
            "Epoch 74/300\n",
            "157/157 [==============================] - 1s 6ms/step - loss: 1.0470 - accuracy: 0.6100\n",
            "Epoch 75/300\n",
            "157/157 [==============================] - 1s 6ms/step - loss: 1.0468 - accuracy: 0.6044\n",
            "Epoch 76/300\n",
            "157/157 [==============================] - 1s 6ms/step - loss: 1.0334 - accuracy: 0.6122\n",
            "Epoch 77/300\n",
            "157/157 [==============================] - 1s 6ms/step - loss: 1.0357 - accuracy: 0.6114\n",
            "Epoch 78/300\n",
            "157/157 [==============================] - 1s 6ms/step - loss: 1.0254 - accuracy: 0.6212\n",
            "Epoch 79/300\n",
            "157/157 [==============================] - 1s 6ms/step - loss: 1.0196 - accuracy: 0.6180\n",
            "Epoch 80/300\n",
            "157/157 [==============================] - 1s 6ms/step - loss: 1.0253 - accuracy: 0.6114\n",
            "Epoch 81/300\n",
            "157/157 [==============================] - 1s 6ms/step - loss: 1.0186 - accuracy: 0.6160\n",
            "Epoch 82/300\n",
            "157/157 [==============================] - 1s 6ms/step - loss: 1.0120 - accuracy: 0.6206\n",
            "Epoch 83/300\n",
            "157/157 [==============================] - 1s 6ms/step - loss: 1.0018 - accuracy: 0.6248\n",
            "Epoch 84/300\n",
            "157/157 [==============================] - 1s 6ms/step - loss: 1.0114 - accuracy: 0.6202\n",
            "Epoch 85/300\n",
            "157/157 [==============================] - 1s 6ms/step - loss: 0.9993 - accuracy: 0.6266\n",
            "Epoch 86/300\n",
            "157/157 [==============================] - 1s 6ms/step - loss: 0.9993 - accuracy: 0.6198\n",
            "Epoch 87/300\n",
            "157/157 [==============================] - 1s 6ms/step - loss: 0.9942 - accuracy: 0.6194\n",
            "Epoch 88/300\n",
            "157/157 [==============================] - 1s 6ms/step - loss: 0.9885 - accuracy: 0.6252\n",
            "Epoch 89/300\n",
            "157/157 [==============================] - 1s 6ms/step - loss: 0.9874 - accuracy: 0.6288\n",
            "Epoch 90/300\n",
            "157/157 [==============================] - 1s 6ms/step - loss: 0.9835 - accuracy: 0.6274\n",
            "Epoch 91/300\n",
            "157/157 [==============================] - 1s 6ms/step - loss: 0.9934 - accuracy: 0.6238\n",
            "Epoch 92/300\n",
            "157/157 [==============================] - 1s 6ms/step - loss: 0.9870 - accuracy: 0.6350\n",
            "Epoch 93/300\n",
            "157/157 [==============================] - 1s 6ms/step - loss: 0.9732 - accuracy: 0.6300\n",
            "Epoch 94/300\n",
            "157/157 [==============================] - 1s 6ms/step - loss: 0.9654 - accuracy: 0.6396\n",
            "Epoch 95/300\n",
            "157/157 [==============================] - 1s 6ms/step - loss: 0.9639 - accuracy: 0.6342\n",
            "Epoch 96/300\n",
            "157/157 [==============================] - 1s 6ms/step - loss: 0.9564 - accuracy: 0.6400\n",
            "Epoch 97/300\n",
            "157/157 [==============================] - 1s 6ms/step - loss: 0.9674 - accuracy: 0.6352\n",
            "Epoch 98/300\n",
            "157/157 [==============================] - 1s 6ms/step - loss: 0.9568 - accuracy: 0.6458\n",
            "Epoch 99/300\n",
            "157/157 [==============================] - 1s 6ms/step - loss: 0.9520 - accuracy: 0.6366\n",
            "Epoch 100/300\n",
            "157/157 [==============================] - 1s 6ms/step - loss: 0.9494 - accuracy: 0.6406\n",
            "Epoch 101/300\n",
            "157/157 [==============================] - 1s 6ms/step - loss: 0.9501 - accuracy: 0.6414\n",
            "Epoch 102/300\n",
            "157/157 [==============================] - 1s 6ms/step - loss: 0.9469 - accuracy: 0.6468\n",
            "Epoch 103/300\n",
            "157/157 [==============================] - 1s 6ms/step - loss: 0.9489 - accuracy: 0.6360\n",
            "Epoch 104/300\n",
            "157/157 [==============================] - 1s 6ms/step - loss: 0.9367 - accuracy: 0.6502\n",
            "Epoch 105/300\n",
            "157/157 [==============================] - 1s 6ms/step - loss: 0.9328 - accuracy: 0.6504\n",
            "Epoch 106/300\n",
            "157/157 [==============================] - 1s 6ms/step - loss: 0.9438 - accuracy: 0.6412\n",
            "Epoch 107/300\n",
            "157/157 [==============================] - 1s 6ms/step - loss: 0.9319 - accuracy: 0.6500\n",
            "Epoch 108/300\n",
            "157/157 [==============================] - 1s 6ms/step - loss: 0.9247 - accuracy: 0.6516\n",
            "Epoch 109/300\n",
            "157/157 [==============================] - 1s 6ms/step - loss: 0.9252 - accuracy: 0.6554\n",
            "Epoch 110/300\n",
            "157/157 [==============================] - 1s 6ms/step - loss: 0.9217 - accuracy: 0.6518\n",
            "Epoch 111/300\n",
            "157/157 [==============================] - 1s 6ms/step - loss: 0.9260 - accuracy: 0.6456\n",
            "Epoch 112/300\n",
            "157/157 [==============================] - 1s 6ms/step - loss: 0.9237 - accuracy: 0.6530\n",
            "Epoch 113/300\n",
            "157/157 [==============================] - 1s 6ms/step - loss: 0.9193 - accuracy: 0.6522\n",
            "Epoch 114/300\n",
            "157/157 [==============================] - 1s 6ms/step - loss: 0.9147 - accuracy: 0.6510\n",
            "Epoch 115/300\n",
            "157/157 [==============================] - 1s 6ms/step - loss: 0.9059 - accuracy: 0.6598\n",
            "Epoch 116/300\n",
            "157/157 [==============================] - 1s 6ms/step - loss: 0.9020 - accuracy: 0.6568\n",
            "Epoch 117/300\n",
            "157/157 [==============================] - 1s 6ms/step - loss: 0.9053 - accuracy: 0.6598\n",
            "Epoch 118/300\n",
            "157/157 [==============================] - 1s 6ms/step - loss: 0.9198 - accuracy: 0.6514\n",
            "Epoch 119/300\n",
            "157/157 [==============================] - 1s 6ms/step - loss: 0.8989 - accuracy: 0.6604\n",
            "Epoch 120/300\n",
            "157/157 [==============================] - 1s 6ms/step - loss: 0.8930 - accuracy: 0.6638\n",
            "Epoch 121/300\n",
            "157/157 [==============================] - 1s 6ms/step - loss: 0.8995 - accuracy: 0.6554\n",
            "Epoch 122/300\n",
            "157/157 [==============================] - 1s 6ms/step - loss: 0.8978 - accuracy: 0.6574\n",
            "Epoch 123/300\n",
            "157/157 [==============================] - 1s 6ms/step - loss: 0.8936 - accuracy: 0.6606\n",
            "Epoch 124/300\n",
            "157/157 [==============================] - 1s 6ms/step - loss: 0.8859 - accuracy: 0.6664\n",
            "Epoch 125/300\n",
            "157/157 [==============================] - 1s 6ms/step - loss: 0.8800 - accuracy: 0.6664\n",
            "Epoch 126/300\n",
            "157/157 [==============================] - 1s 6ms/step - loss: 0.8940 - accuracy: 0.6592\n",
            "Epoch 127/300\n",
            "157/157 [==============================] - 1s 6ms/step - loss: 0.8811 - accuracy: 0.6714\n",
            "Epoch 128/300\n",
            "157/157 [==============================] - 1s 6ms/step - loss: 0.8829 - accuracy: 0.6644\n",
            "Epoch 129/300\n",
            "157/157 [==============================] - 1s 6ms/step - loss: 0.8730 - accuracy: 0.6710\n",
            "Epoch 130/300\n",
            "157/157 [==============================] - 1s 6ms/step - loss: 0.8718 - accuracy: 0.6698\n",
            "Epoch 131/300\n",
            "157/157 [==============================] - 1s 6ms/step - loss: 0.8689 - accuracy: 0.6740\n",
            "Epoch 132/300\n",
            "157/157 [==============================] - 1s 6ms/step - loss: 0.8709 - accuracy: 0.6670\n",
            "Epoch 133/300\n",
            "157/157 [==============================] - 1s 6ms/step - loss: 0.8707 - accuracy: 0.6672\n",
            "Epoch 134/300\n",
            "157/157 [==============================] - 1s 6ms/step - loss: 0.8731 - accuracy: 0.6682\n",
            "Epoch 135/300\n",
            "157/157 [==============================] - 1s 6ms/step - loss: 0.8731 - accuracy: 0.6670\n",
            "Epoch 136/300\n",
            "157/157 [==============================] - 1s 6ms/step - loss: 0.8580 - accuracy: 0.6756\n",
            "Epoch 137/300\n",
            "157/157 [==============================] - 1s 6ms/step - loss: 0.8622 - accuracy: 0.6702\n",
            "Epoch 138/300\n",
            "157/157 [==============================] - 1s 6ms/step - loss: 0.8663 - accuracy: 0.6766\n",
            "Epoch 139/300\n",
            "157/157 [==============================] - 1s 6ms/step - loss: 0.8726 - accuracy: 0.6716\n",
            "Epoch 140/300\n",
            "157/157 [==============================] - 1s 6ms/step - loss: 0.8547 - accuracy: 0.6776\n",
            "Epoch 141/300\n",
            "157/157 [==============================] - 1s 6ms/step - loss: 0.8559 - accuracy: 0.6748\n",
            "Epoch 142/300\n",
            "157/157 [==============================] - 1s 6ms/step - loss: 0.8565 - accuracy: 0.6720\n",
            "Epoch 143/300\n",
            "157/157 [==============================] - 1s 6ms/step - loss: 0.8596 - accuracy: 0.6694\n",
            "Epoch 144/300\n",
            "157/157 [==============================] - 1s 6ms/step - loss: 0.8526 - accuracy: 0.6738\n",
            "Epoch 145/300\n",
            "157/157 [==============================] - 1s 6ms/step - loss: 0.8455 - accuracy: 0.6758\n",
            "Epoch 146/300\n",
            "157/157 [==============================] - 1s 6ms/step - loss: 0.8375 - accuracy: 0.6834\n",
            "Epoch 147/300\n",
            "157/157 [==============================] - 1s 6ms/step - loss: 0.8407 - accuracy: 0.6770\n",
            "Epoch 148/300\n",
            "157/157 [==============================] - 1s 6ms/step - loss: 0.8376 - accuracy: 0.6854\n",
            "Epoch 149/300\n",
            "157/157 [==============================] - 1s 6ms/step - loss: 0.8421 - accuracy: 0.6820\n",
            "Epoch 150/300\n",
            "157/157 [==============================] - 1s 6ms/step - loss: 0.8330 - accuracy: 0.6862\n",
            "Epoch 151/300\n",
            "157/157 [==============================] - 1s 6ms/step - loss: 0.8390 - accuracy: 0.6828\n",
            "Epoch 152/300\n",
            "157/157 [==============================] - 1s 6ms/step - loss: 0.8325 - accuracy: 0.6876\n",
            "Epoch 153/300\n",
            "157/157 [==============================] - 1s 6ms/step - loss: 0.8295 - accuracy: 0.6876\n",
            "Epoch 154/300\n",
            "157/157 [==============================] - 1s 6ms/step - loss: 0.8419 - accuracy: 0.6798\n",
            "Epoch 155/300\n",
            "157/157 [==============================] - 1s 6ms/step - loss: 0.8276 - accuracy: 0.6850\n",
            "Epoch 156/300\n",
            "157/157 [==============================] - 1s 6ms/step - loss: 0.8278 - accuracy: 0.6866\n",
            "Epoch 157/300\n",
            "157/157 [==============================] - 1s 6ms/step - loss: 0.8307 - accuracy: 0.6868\n",
            "Epoch 158/300\n",
            "157/157 [==============================] - 1s 6ms/step - loss: 0.8337 - accuracy: 0.6812\n",
            "Epoch 159/300\n",
            "157/157 [==============================] - 1s 6ms/step - loss: 0.8155 - accuracy: 0.6884\n",
            "Epoch 160/300\n",
            "157/157 [==============================] - 1s 6ms/step - loss: 0.8202 - accuracy: 0.6894\n",
            "Epoch 161/300\n",
            "157/157 [==============================] - 1s 6ms/step - loss: 0.8162 - accuracy: 0.6870\n",
            "Epoch 162/300\n",
            "157/157 [==============================] - 1s 6ms/step - loss: 0.8132 - accuracy: 0.6892\n",
            "Epoch 163/300\n",
            "157/157 [==============================] - 1s 6ms/step - loss: 0.8159 - accuracy: 0.6888\n",
            "Epoch 164/300\n",
            "157/157 [==============================] - 1s 6ms/step - loss: 0.8038 - accuracy: 0.6910\n",
            "Epoch 165/300\n",
            "157/157 [==============================] - 1s 6ms/step - loss: 0.8317 - accuracy: 0.6820\n",
            "Epoch 166/300\n",
            "157/157 [==============================] - 1s 6ms/step - loss: 0.8043 - accuracy: 0.6918\n",
            "Epoch 167/300\n",
            "157/157 [==============================] - 1s 6ms/step - loss: 0.8044 - accuracy: 0.6944\n",
            "Epoch 168/300\n",
            "157/157 [==============================] - 1s 6ms/step - loss: 0.8110 - accuracy: 0.6902\n",
            "Epoch 169/300\n",
            "157/157 [==============================] - 1s 6ms/step - loss: 0.8117 - accuracy: 0.6870\n",
            "Epoch 170/300\n",
            "157/157 [==============================] - 1s 6ms/step - loss: 0.7958 - accuracy: 0.6988\n",
            "Epoch 171/300\n",
            "157/157 [==============================] - 1s 6ms/step - loss: 0.8045 - accuracy: 0.6906\n",
            "Epoch 172/300\n",
            "157/157 [==============================] - 1s 6ms/step - loss: 0.8048 - accuracy: 0.6954\n",
            "Epoch 173/300\n",
            "157/157 [==============================] - 1s 6ms/step - loss: 0.8036 - accuracy: 0.7004\n",
            "Epoch 174/300\n",
            "157/157 [==============================] - 1s 6ms/step - loss: 0.8114 - accuracy: 0.6950\n",
            "Epoch 175/300\n",
            "157/157 [==============================] - 1s 6ms/step - loss: 0.7813 - accuracy: 0.7012\n",
            "Epoch 176/300\n",
            "157/157 [==============================] - 1s 6ms/step - loss: 0.7944 - accuracy: 0.6962\n",
            "Epoch 177/300\n",
            "157/157 [==============================] - 1s 6ms/step - loss: 0.7842 - accuracy: 0.7040\n",
            "Epoch 178/300\n",
            "157/157 [==============================] - 1s 6ms/step - loss: 0.7970 - accuracy: 0.6998\n",
            "Epoch 179/300\n",
            "157/157 [==============================] - 1s 6ms/step - loss: 0.7905 - accuracy: 0.6980\n",
            "Epoch 180/300\n",
            "157/157 [==============================] - 1s 6ms/step - loss: 0.7744 - accuracy: 0.7064\n",
            "Epoch 181/300\n",
            "157/157 [==============================] - 1s 6ms/step - loss: 0.7735 - accuracy: 0.7088\n",
            "Epoch 182/300\n",
            "157/157 [==============================] - 1s 6ms/step - loss: 0.7752 - accuracy: 0.7004\n",
            "Epoch 183/300\n",
            "157/157 [==============================] - 1s 6ms/step - loss: 0.7845 - accuracy: 0.7038\n",
            "Epoch 184/300\n",
            "157/157 [==============================] - 1s 6ms/step - loss: 0.7704 - accuracy: 0.7028\n",
            "Epoch 185/300\n",
            "157/157 [==============================] - 1s 6ms/step - loss: 0.7871 - accuracy: 0.7014\n",
            "Epoch 186/300\n",
            "157/157 [==============================] - 1s 6ms/step - loss: 0.7801 - accuracy: 0.7034\n",
            "Epoch 187/300\n",
            "157/157 [==============================] - 1s 6ms/step - loss: 0.7726 - accuracy: 0.7086\n",
            "Epoch 188/300\n",
            "157/157 [==============================] - 1s 6ms/step - loss: 0.7862 - accuracy: 0.7054\n",
            "Epoch 189/300\n",
            "157/157 [==============================] - 1s 6ms/step - loss: 0.7669 - accuracy: 0.7106\n",
            "Epoch 190/300\n",
            "157/157 [==============================] - 1s 6ms/step - loss: 0.7829 - accuracy: 0.6966\n",
            "Epoch 191/300\n",
            "157/157 [==============================] - 1s 6ms/step - loss: 0.7596 - accuracy: 0.7120\n",
            "Epoch 192/300\n",
            "157/157 [==============================] - 1s 6ms/step - loss: 0.7597 - accuracy: 0.7130\n",
            "Epoch 193/300\n",
            "157/157 [==============================] - 1s 6ms/step - loss: 0.7655 - accuracy: 0.7130\n",
            "Epoch 194/300\n",
            "157/157 [==============================] - 1s 6ms/step - loss: 0.7633 - accuracy: 0.7050\n",
            "Epoch 195/300\n",
            "157/157 [==============================] - 1s 6ms/step - loss: 0.7502 - accuracy: 0.7174\n",
            "Epoch 196/300\n",
            "157/157 [==============================] - 1s 6ms/step - loss: 0.7619 - accuracy: 0.7136\n",
            "Epoch 197/300\n",
            "157/157 [==============================] - 1s 6ms/step - loss: 0.7503 - accuracy: 0.7128\n",
            "Epoch 198/300\n",
            "157/157 [==============================] - 1s 6ms/step - loss: 0.7476 - accuracy: 0.7152\n",
            "Epoch 199/300\n",
            "157/157 [==============================] - 1s 6ms/step - loss: 0.7541 - accuracy: 0.7140\n",
            "Epoch 200/300\n",
            "157/157 [==============================] - 1s 6ms/step - loss: 0.7527 - accuracy: 0.7126\n",
            "Epoch 201/300\n",
            "157/157 [==============================] - 1s 6ms/step - loss: 0.7476 - accuracy: 0.7156\n",
            "Epoch 202/300\n",
            "157/157 [==============================] - 1s 6ms/step - loss: 0.7532 - accuracy: 0.7078\n",
            "Epoch 203/300\n",
            "157/157 [==============================] - 1s 6ms/step - loss: 0.7355 - accuracy: 0.7144\n",
            "Epoch 204/300\n",
            "157/157 [==============================] - 1s 6ms/step - loss: 0.7469 - accuracy: 0.7124\n",
            "Epoch 205/300\n",
            "157/157 [==============================] - 1s 6ms/step - loss: 0.7387 - accuracy: 0.7198\n",
            "Epoch 206/300\n",
            "157/157 [==============================] - 1s 6ms/step - loss: 0.7348 - accuracy: 0.7192\n",
            "Epoch 207/300\n",
            "157/157 [==============================] - 1s 6ms/step - loss: 0.7441 - accuracy: 0.7120\n",
            "Epoch 208/300\n",
            "157/157 [==============================] - 1s 6ms/step - loss: 0.7495 - accuracy: 0.7140\n",
            "Epoch 209/300\n",
            "157/157 [==============================] - 1s 6ms/step - loss: 0.7475 - accuracy: 0.7142\n",
            "Epoch 210/300\n",
            "157/157 [==============================] - 1s 6ms/step - loss: 0.7361 - accuracy: 0.7212\n",
            "Epoch 211/300\n",
            "157/157 [==============================] - 1s 6ms/step - loss: 0.7397 - accuracy: 0.7202\n",
            "Epoch 212/300\n",
            "157/157 [==============================] - 1s 6ms/step - loss: 0.7419 - accuracy: 0.7178\n",
            "Epoch 213/300\n",
            "157/157 [==============================] - 1s 6ms/step - loss: 0.7310 - accuracy: 0.7168\n",
            "Epoch 214/300\n",
            "157/157 [==============================] - 1s 6ms/step - loss: 0.7276 - accuracy: 0.7220\n",
            "Epoch 215/300\n",
            "157/157 [==============================] - 1s 6ms/step - loss: 0.7302 - accuracy: 0.7192\n",
            "Epoch 216/300\n",
            "157/157 [==============================] - 1s 6ms/step - loss: 0.7206 - accuracy: 0.7298\n",
            "Epoch 217/300\n",
            "157/157 [==============================] - 1s 6ms/step - loss: 0.7225 - accuracy: 0.7234\n",
            "Epoch 218/300\n",
            "157/157 [==============================] - 1s 6ms/step - loss: 0.7330 - accuracy: 0.7186\n",
            "Epoch 219/300\n",
            "157/157 [==============================] - 1s 6ms/step - loss: 0.7222 - accuracy: 0.7254\n",
            "Epoch 220/300\n",
            "157/157 [==============================] - 1s 6ms/step - loss: 0.7253 - accuracy: 0.7242\n",
            "Epoch 221/300\n",
            "157/157 [==============================] - 1s 6ms/step - loss: 0.7327 - accuracy: 0.7130\n",
            "Epoch 222/300\n",
            "157/157 [==============================] - 1s 6ms/step - loss: 0.7233 - accuracy: 0.7256\n",
            "Epoch 223/300\n",
            "157/157 [==============================] - 1s 6ms/step - loss: 0.7078 - accuracy: 0.7252\n",
            "Epoch 224/300\n",
            "157/157 [==============================] - 1s 6ms/step - loss: 0.7420 - accuracy: 0.7166\n",
            "Epoch 225/300\n",
            "157/157 [==============================] - 1s 6ms/step - loss: 0.7198 - accuracy: 0.7202\n",
            "Epoch 226/300\n",
            "157/157 [==============================] - 1s 6ms/step - loss: 0.7109 - accuracy: 0.7320\n",
            "Epoch 227/300\n",
            "157/157 [==============================] - 1s 6ms/step - loss: 0.7127 - accuracy: 0.7266\n",
            "Epoch 228/300\n",
            "157/157 [==============================] - 1s 6ms/step - loss: 0.7244 - accuracy: 0.7204\n",
            "Epoch 229/300\n",
            "157/157 [==============================] - 1s 6ms/step - loss: 0.7328 - accuracy: 0.7210\n",
            "Epoch 230/300\n",
            "157/157 [==============================] - 1s 6ms/step - loss: 0.7074 - accuracy: 0.7282\n",
            "Epoch 231/300\n",
            "157/157 [==============================] - 1s 6ms/step - loss: 0.7023 - accuracy: 0.7312\n",
            "Epoch 232/300\n",
            "157/157 [==============================] - 1s 6ms/step - loss: 0.7011 - accuracy: 0.7390\n",
            "Epoch 233/300\n",
            "157/157 [==============================] - 1s 6ms/step - loss: 0.6999 - accuracy: 0.7398\n",
            "Epoch 234/300\n",
            "157/157 [==============================] - 1s 6ms/step - loss: 0.7011 - accuracy: 0.7350\n",
            "Epoch 235/300\n",
            "157/157 [==============================] - 1s 6ms/step - loss: 0.7074 - accuracy: 0.7276\n",
            "Epoch 236/300\n",
            "157/157 [==============================] - 1s 6ms/step - loss: 0.6987 - accuracy: 0.7360\n",
            "Epoch 237/300\n",
            "157/157 [==============================] - 1s 6ms/step - loss: 0.6876 - accuracy: 0.7352\n",
            "Epoch 238/300\n",
            "157/157 [==============================] - 1s 6ms/step - loss: 0.6976 - accuracy: 0.7348\n",
            "Epoch 239/300\n",
            "157/157 [==============================] - 1s 6ms/step - loss: 0.7075 - accuracy: 0.7364\n",
            "Epoch 240/300\n",
            "157/157 [==============================] - 1s 6ms/step - loss: 0.6954 - accuracy: 0.7350\n",
            "Epoch 241/300\n",
            "157/157 [==============================] - 1s 6ms/step - loss: 0.6934 - accuracy: 0.7354\n",
            "Epoch 242/300\n",
            "157/157 [==============================] - 1s 6ms/step - loss: 0.6941 - accuracy: 0.7358\n",
            "Epoch 243/300\n",
            "157/157 [==============================] - 1s 6ms/step - loss: 0.6802 - accuracy: 0.7438\n",
            "Epoch 244/300\n",
            "157/157 [==============================] - 1s 6ms/step - loss: 0.6894 - accuracy: 0.7376\n",
            "Epoch 245/300\n",
            "157/157 [==============================] - 1s 6ms/step - loss: 0.6797 - accuracy: 0.7348\n",
            "Epoch 246/300\n",
            "157/157 [==============================] - 1s 6ms/step - loss: 0.6905 - accuracy: 0.7330\n",
            "Epoch 247/300\n",
            "157/157 [==============================] - 1s 6ms/step - loss: 0.6949 - accuracy: 0.7340\n",
            "Epoch 248/300\n",
            "157/157 [==============================] - 1s 6ms/step - loss: 0.6739 - accuracy: 0.7446\n",
            "Epoch 249/300\n",
            "157/157 [==============================] - 1s 6ms/step - loss: 0.6883 - accuracy: 0.7378\n",
            "Epoch 250/300\n",
            "157/157 [==============================] - 1s 6ms/step - loss: 0.6886 - accuracy: 0.7422\n",
            "Epoch 251/300\n",
            "157/157 [==============================] - 1s 6ms/step - loss: 0.6793 - accuracy: 0.7420\n",
            "Epoch 252/300\n",
            "157/157 [==============================] - 1s 6ms/step - loss: 0.7042 - accuracy: 0.7288\n",
            "Epoch 253/300\n",
            "157/157 [==============================] - 1s 6ms/step - loss: 0.6815 - accuracy: 0.7392\n",
            "Epoch 254/300\n",
            "157/157 [==============================] - 1s 6ms/step - loss: 0.6757 - accuracy: 0.7440\n",
            "Epoch 255/300\n",
            "157/157 [==============================] - 1s 6ms/step - loss: 0.6780 - accuracy: 0.7420\n",
            "Epoch 256/300\n",
            "157/157 [==============================] - 1s 6ms/step - loss: 0.6830 - accuracy: 0.7438\n",
            "Epoch 257/300\n",
            "157/157 [==============================] - 1s 6ms/step - loss: 0.6794 - accuracy: 0.7382\n",
            "Epoch 258/300\n",
            "157/157 [==============================] - 1s 6ms/step - loss: 0.6697 - accuracy: 0.7416\n",
            "Epoch 259/300\n",
            "157/157 [==============================] - 1s 7ms/step - loss: 0.6822 - accuracy: 0.7386\n",
            "Epoch 260/300\n",
            "157/157 [==============================] - 1s 6ms/step - loss: 0.6854 - accuracy: 0.7412\n",
            "Epoch 261/300\n",
            "157/157 [==============================] - 1s 6ms/step - loss: 0.6668 - accuracy: 0.7436\n",
            "Epoch 262/300\n",
            "157/157 [==============================] - 1s 6ms/step - loss: 0.6774 - accuracy: 0.7368\n",
            "Epoch 263/300\n",
            "157/157 [==============================] - 1s 6ms/step - loss: 0.6682 - accuracy: 0.7426\n",
            "Epoch 264/300\n",
            "157/157 [==============================] - 1s 6ms/step - loss: 0.6720 - accuracy: 0.7454\n",
            "Epoch 265/300\n",
            "157/157 [==============================] - 1s 6ms/step - loss: 0.6687 - accuracy: 0.7460\n",
            "Epoch 266/300\n",
            "157/157 [==============================] - 1s 6ms/step - loss: 0.6647 - accuracy: 0.7460\n",
            "Epoch 267/300\n",
            "157/157 [==============================] - 1s 6ms/step - loss: 0.6669 - accuracy: 0.7440\n",
            "Epoch 268/300\n",
            "157/157 [==============================] - 1s 6ms/step - loss: 0.6620 - accuracy: 0.7450\n",
            "Epoch 269/300\n",
            "157/157 [==============================] - 1s 7ms/step - loss: 0.6847 - accuracy: 0.7390\n",
            "Epoch 270/300\n",
            "157/157 [==============================] - 1s 6ms/step - loss: 0.6628 - accuracy: 0.7386\n",
            "Epoch 271/300\n",
            "157/157 [==============================] - 1s 6ms/step - loss: 0.6651 - accuracy: 0.7456\n",
            "Epoch 272/300\n",
            "157/157 [==============================] - 1s 6ms/step - loss: 0.6536 - accuracy: 0.7478\n",
            "Epoch 273/300\n",
            "157/157 [==============================] - 1s 6ms/step - loss: 0.6453 - accuracy: 0.7552\n",
            "Epoch 274/300\n",
            "157/157 [==============================] - 1s 6ms/step - loss: 0.6571 - accuracy: 0.7480\n",
            "Epoch 275/300\n",
            "157/157 [==============================] - 1s 6ms/step - loss: 0.6538 - accuracy: 0.7444\n",
            "Epoch 276/300\n",
            "157/157 [==============================] - 1s 6ms/step - loss: 0.6595 - accuracy: 0.7492\n",
            "Epoch 277/300\n",
            "157/157 [==============================] - 1s 6ms/step - loss: 0.6565 - accuracy: 0.7474\n",
            "Epoch 278/300\n",
            "157/157 [==============================] - 1s 6ms/step - loss: 0.6724 - accuracy: 0.7408\n",
            "Epoch 279/300\n",
            "157/157 [==============================] - 1s 6ms/step - loss: 0.6634 - accuracy: 0.7510\n",
            "Epoch 280/300\n",
            "157/157 [==============================] - 1s 6ms/step - loss: 0.6566 - accuracy: 0.7496\n",
            "Epoch 281/300\n",
            "157/157 [==============================] - 1s 6ms/step - loss: 0.6505 - accuracy: 0.7564\n",
            "Epoch 282/300\n",
            "157/157 [==============================] - 1s 6ms/step - loss: 0.6393 - accuracy: 0.7544\n",
            "Epoch 283/300\n",
            "157/157 [==============================] - 1s 6ms/step - loss: 0.6401 - accuracy: 0.7532\n",
            "Epoch 284/300\n",
            "157/157 [==============================] - 1s 6ms/step - loss: 0.6629 - accuracy: 0.7444\n",
            "Epoch 285/300\n",
            "157/157 [==============================] - 1s 6ms/step - loss: 0.6573 - accuracy: 0.7428\n",
            "Epoch 286/300\n",
            "157/157 [==============================] - 1s 6ms/step - loss: 0.6408 - accuracy: 0.7514\n",
            "Epoch 287/300\n",
            "157/157 [==============================] - 1s 6ms/step - loss: 0.6417 - accuracy: 0.7538\n",
            "Epoch 288/300\n",
            "157/157 [==============================] - 1s 6ms/step - loss: 0.6511 - accuracy: 0.7518\n",
            "Epoch 289/300\n",
            "157/157 [==============================] - 1s 6ms/step - loss: 0.6392 - accuracy: 0.7566\n",
            "Epoch 290/300\n",
            "157/157 [==============================] - 1s 6ms/step - loss: 0.6349 - accuracy: 0.7592\n",
            "Epoch 291/300\n",
            "157/157 [==============================] - 1s 6ms/step - loss: 0.6422 - accuracy: 0.7520\n",
            "Epoch 292/300\n",
            "157/157 [==============================] - 1s 6ms/step - loss: 0.6368 - accuracy: 0.7552\n",
            "Epoch 293/300\n",
            "157/157 [==============================] - 1s 6ms/step - loss: 0.6346 - accuracy: 0.7566\n",
            "Epoch 294/300\n",
            "157/157 [==============================] - 1s 6ms/step - loss: 0.6429 - accuracy: 0.7534\n",
            "Epoch 295/300\n",
            "157/157 [==============================] - 1s 6ms/step - loss: 0.6290 - accuracy: 0.7560\n",
            "Epoch 296/300\n",
            "157/157 [==============================] - 1s 6ms/step - loss: 0.6453 - accuracy: 0.7470\n",
            "Epoch 297/300\n",
            "157/157 [==============================] - 1s 6ms/step - loss: 0.6326 - accuracy: 0.7516\n",
            "Epoch 298/300\n",
            "157/157 [==============================] - 1s 6ms/step - loss: 0.6179 - accuracy: 0.7644\n",
            "Epoch 299/300\n",
            "157/157 [==============================] - 1s 6ms/step - loss: 0.6292 - accuracy: 0.7610\n",
            "Epoch 300/300\n",
            "157/157 [==============================] - 1s 6ms/step - loss: 0.6417 - accuracy: 0.7540\n"
          ]
        }
      ]
    },
    {
      "cell_type": "code",
      "metadata": {
        "colab": {
          "base_uri": "https://localhost:8080/"
        },
        "id": "tVuwxayCu3cY",
        "outputId": "ac995238-9878-4e7f-8b75-43641c2424c8"
      },
      "source": [
        "print(model.evaluate(X_train_small, y_train_small, verbose=0))\n"
      ],
      "execution_count": 29,
      "outputs": [
        {
          "output_type": "stream",
          "name": "stdout",
          "text": [
            "[0.5885931253433228, 0.781000018119812]\n"
          ]
        }
      ]
    },
    {
      "cell_type": "markdown",
      "metadata": {
        "id": "z7P9y-LwVjdx"
      },
      "source": [
        "## 3. Increase data size"
      ]
    },
    {
      "cell_type": "markdown",
      "metadata": {
        "id": "UMHH_qsbVT_0"
      },
      "source": [
        "❓ **Question** ❓ Now that your model fits on a small subsample, try to fit it on the full dataset and notice how performance increases. \n",
        "\n",
        "🚨 **Make sure to use GPU acceleration** by clicking on `\"Runtime --> Change runtime --> GPU\"` if you are on Colab. \n",
        "\n",
        "💡 Training neural network on images (in each batch) can be parallelized, and this parallelization procedure can be done on GPU.\n"
      ]
    },
    {
      "cell_type": "code",
      "metadata": {
        "id": "pWHicYsosW6o",
        "colab": {
          "base_uri": "https://localhost:8080/"
        },
        "outputId": "f022317a-9e6d-4f95-d208-1a65e0811aac"
      },
      "source": [
        "# YOUR CODE HERE\n",
        "from tensorflow.keras import callbacks\n",
        "\n",
        "model = initialize_model()\n",
        "print(model)\n",
        "model = compile_model(model)\n",
        "print(model)\n",
        "\n",
        "es = callbacks.EarlyStopping(patience=30, restore_best_weights=True)\n",
        "\n",
        "history = model.fit(X_train_small, y_train_small,\n",
        "          epochs=300,\n",
        "          batch_size=16, \n",
        "          validation_split=0.3,\n",
        "          callbacks=[es],\n",
        "          verbose=1)"
      ],
      "execution_count": 31,
      "outputs": [
        {
          "output_type": "stream",
          "name": "stdout",
          "text": [
            "<keras.engine.sequential.Sequential object at 0x7f9b053708d0>\n",
            "<keras.engine.sequential.Sequential object at 0x7f9b053708d0>\n",
            "Epoch 1/300\n",
            "219/219 [==============================] - 3s 11ms/step - loss: 2.2890 - accuracy: 0.1080 - val_loss: 2.2372 - val_accuracy: 0.1713\n",
            "Epoch 2/300\n",
            "219/219 [==============================] - 2s 7ms/step - loss: 2.1461 - accuracy: 0.2143 - val_loss: 2.1010 - val_accuracy: 0.2013\n",
            "Epoch 3/300\n",
            "219/219 [==============================] - 2s 9ms/step - loss: 2.0508 - accuracy: 0.2237 - val_loss: 2.0618 - val_accuracy: 0.2087\n",
            "Epoch 4/300\n",
            "219/219 [==============================] - 2s 7ms/step - loss: 1.9567 - accuracy: 0.2651 - val_loss: 1.9018 - val_accuracy: 0.2887\n",
            "Epoch 5/300\n",
            "219/219 [==============================] - 2s 7ms/step - loss: 1.8437 - accuracy: 0.3123 - val_loss: 1.8313 - val_accuracy: 0.3247\n",
            "Epoch 6/300\n",
            "219/219 [==============================] - 2s 7ms/step - loss: 1.7816 - accuracy: 0.3420 - val_loss: 1.8600 - val_accuracy: 0.2993\n",
            "Epoch 7/300\n",
            "219/219 [==============================] - 2s 7ms/step - loss: 1.7166 - accuracy: 0.3629 - val_loss: 1.7826 - val_accuracy: 0.3173\n",
            "Epoch 8/300\n",
            "219/219 [==============================] - 2s 7ms/step - loss: 1.6721 - accuracy: 0.3780 - val_loss: 1.7478 - val_accuracy: 0.3467\n",
            "Epoch 9/300\n",
            "219/219 [==============================] - 2s 7ms/step - loss: 1.6293 - accuracy: 0.3949 - val_loss: 1.7153 - val_accuracy: 0.3673\n",
            "Epoch 10/300\n",
            "219/219 [==============================] - 2s 7ms/step - loss: 1.5973 - accuracy: 0.4111 - val_loss: 1.6840 - val_accuracy: 0.3673\n",
            "Epoch 11/300\n",
            "219/219 [==============================] - 2s 7ms/step - loss: 1.5702 - accuracy: 0.4223 - val_loss: 1.6746 - val_accuracy: 0.3800\n",
            "Epoch 12/300\n",
            "219/219 [==============================] - 2s 7ms/step - loss: 1.5402 - accuracy: 0.4291 - val_loss: 1.6485 - val_accuracy: 0.3787\n",
            "Epoch 13/300\n",
            "219/219 [==============================] - 2s 7ms/step - loss: 1.5227 - accuracy: 0.4331 - val_loss: 1.6249 - val_accuracy: 0.4040\n",
            "Epoch 14/300\n",
            "219/219 [==============================] - 2s 7ms/step - loss: 1.4975 - accuracy: 0.4466 - val_loss: 1.6034 - val_accuracy: 0.4080\n",
            "Epoch 15/300\n",
            "219/219 [==============================] - 2s 7ms/step - loss: 1.4704 - accuracy: 0.4583 - val_loss: 1.6325 - val_accuracy: 0.4047\n",
            "Epoch 16/300\n",
            "219/219 [==============================] - 2s 7ms/step - loss: 1.4644 - accuracy: 0.4629 - val_loss: 1.5795 - val_accuracy: 0.4227\n",
            "Epoch 17/300\n",
            "219/219 [==============================] - 2s 7ms/step - loss: 1.4322 - accuracy: 0.4697 - val_loss: 1.5992 - val_accuracy: 0.4193\n",
            "Epoch 18/300\n",
            "219/219 [==============================] - 2s 9ms/step - loss: 1.4119 - accuracy: 0.4751 - val_loss: 1.5982 - val_accuracy: 0.4247\n",
            "Epoch 19/300\n",
            "219/219 [==============================] - 2s 7ms/step - loss: 1.4031 - accuracy: 0.4766 - val_loss: 1.5739 - val_accuracy: 0.4287\n",
            "Epoch 20/300\n",
            "219/219 [==============================] - 2s 7ms/step - loss: 1.3969 - accuracy: 0.4860 - val_loss: 1.5934 - val_accuracy: 0.4380\n",
            "Epoch 21/300\n",
            "219/219 [==============================] - 2s 7ms/step - loss: 1.3750 - accuracy: 0.4983 - val_loss: 1.5653 - val_accuracy: 0.4340\n",
            "Epoch 22/300\n",
            "219/219 [==============================] - 2s 7ms/step - loss: 1.3552 - accuracy: 0.4994 - val_loss: 1.5872 - val_accuracy: 0.4333\n",
            "Epoch 23/300\n",
            "219/219 [==============================] - 2s 9ms/step - loss: 1.3606 - accuracy: 0.4983 - val_loss: 1.5210 - val_accuracy: 0.4573\n",
            "Epoch 24/300\n",
            "219/219 [==============================] - 2s 7ms/step - loss: 1.3372 - accuracy: 0.5123 - val_loss: 1.5230 - val_accuracy: 0.4480\n",
            "Epoch 25/300\n",
            "219/219 [==============================] - 2s 7ms/step - loss: 1.3139 - accuracy: 0.5129 - val_loss: 1.5757 - val_accuracy: 0.4300\n",
            "Epoch 26/300\n",
            "219/219 [==============================] - 2s 9ms/step - loss: 1.3140 - accuracy: 0.5157 - val_loss: 1.5247 - val_accuracy: 0.4480\n",
            "Epoch 27/300\n",
            "219/219 [==============================] - 2s 9ms/step - loss: 1.2919 - accuracy: 0.5297 - val_loss: 1.5394 - val_accuracy: 0.4440\n",
            "Epoch 28/300\n",
            "219/219 [==============================] - 2s 7ms/step - loss: 1.2922 - accuracy: 0.5234 - val_loss: 1.5349 - val_accuracy: 0.4540\n",
            "Epoch 29/300\n",
            "219/219 [==============================] - 2s 7ms/step - loss: 1.2657 - accuracy: 0.5309 - val_loss: 1.5130 - val_accuracy: 0.4673\n",
            "Epoch 30/300\n",
            "219/219 [==============================] - 2s 7ms/step - loss: 1.2558 - accuracy: 0.5423 - val_loss: 1.5090 - val_accuracy: 0.4740\n",
            "Epoch 31/300\n",
            "219/219 [==============================] - 2s 9ms/step - loss: 1.2451 - accuracy: 0.5360 - val_loss: 1.5341 - val_accuracy: 0.4633\n",
            "Epoch 32/300\n",
            "219/219 [==============================] - 2s 7ms/step - loss: 1.2470 - accuracy: 0.5386 - val_loss: 1.5321 - val_accuracy: 0.4527\n",
            "Epoch 33/300\n",
            "219/219 [==============================] - 2s 7ms/step - loss: 1.2234 - accuracy: 0.5486 - val_loss: 1.5440 - val_accuracy: 0.4620\n",
            "Epoch 34/300\n",
            "219/219 [==============================] - 2s 7ms/step - loss: 1.2185 - accuracy: 0.5537 - val_loss: 1.5090 - val_accuracy: 0.4787\n",
            "Epoch 35/300\n",
            "219/219 [==============================] - 2s 7ms/step - loss: 1.2108 - accuracy: 0.5597 - val_loss: 1.5362 - val_accuracy: 0.4700\n",
            "Epoch 36/300\n",
            "219/219 [==============================] - 2s 7ms/step - loss: 1.1978 - accuracy: 0.5546 - val_loss: 1.5622 - val_accuracy: 0.4573\n",
            "Epoch 37/300\n",
            "219/219 [==============================] - 2s 7ms/step - loss: 1.1933 - accuracy: 0.5569 - val_loss: 1.5706 - val_accuracy: 0.4580\n",
            "Epoch 38/300\n",
            "219/219 [==============================] - 2s 7ms/step - loss: 1.1788 - accuracy: 0.5669 - val_loss: 1.5083 - val_accuracy: 0.4747\n",
            "Epoch 39/300\n",
            "219/219 [==============================] - 2s 7ms/step - loss: 1.1713 - accuracy: 0.5729 - val_loss: 1.5581 - val_accuracy: 0.4713\n",
            "Epoch 40/300\n",
            "219/219 [==============================] - 2s 7ms/step - loss: 1.1655 - accuracy: 0.5697 - val_loss: 1.5098 - val_accuracy: 0.4740\n",
            "Epoch 41/300\n",
            "219/219 [==============================] - 2s 9ms/step - loss: 1.1593 - accuracy: 0.5706 - val_loss: 1.6575 - val_accuracy: 0.4353\n",
            "Epoch 42/300\n",
            "219/219 [==============================] - 2s 7ms/step - loss: 1.1552 - accuracy: 0.5743 - val_loss: 1.5099 - val_accuracy: 0.4860\n",
            "Epoch 43/300\n",
            "219/219 [==============================] - 2s 7ms/step - loss: 1.1418 - accuracy: 0.5857 - val_loss: 1.5248 - val_accuracy: 0.4807\n",
            "Epoch 44/300\n",
            "219/219 [==============================] - 2s 7ms/step - loss: 1.1349 - accuracy: 0.5851 - val_loss: 1.5650 - val_accuracy: 0.4620\n",
            "Epoch 45/300\n",
            "219/219 [==============================] - 2s 9ms/step - loss: 1.1261 - accuracy: 0.5891 - val_loss: 1.5100 - val_accuracy: 0.4860\n",
            "Epoch 46/300\n",
            "219/219 [==============================] - 2s 7ms/step - loss: 1.1146 - accuracy: 0.5837 - val_loss: 1.5251 - val_accuracy: 0.4733\n",
            "Epoch 47/300\n",
            "219/219 [==============================] - 2s 9ms/step - loss: 1.1185 - accuracy: 0.5934 - val_loss: 1.5559 - val_accuracy: 0.4833\n",
            "Epoch 48/300\n",
            "219/219 [==============================] - 2s 7ms/step - loss: 1.1030 - accuracy: 0.5937 - val_loss: 1.5241 - val_accuracy: 0.4780\n",
            "Epoch 49/300\n",
            "219/219 [==============================] - 2s 7ms/step - loss: 1.0945 - accuracy: 0.5969 - val_loss: 1.6122 - val_accuracy: 0.4640\n",
            "Epoch 50/300\n",
            "219/219 [==============================] - 2s 7ms/step - loss: 1.0963 - accuracy: 0.5974 - val_loss: 1.5500 - val_accuracy: 0.4707\n",
            "Epoch 51/300\n",
            "219/219 [==============================] - 2s 7ms/step - loss: 1.0780 - accuracy: 0.6049 - val_loss: 1.5735 - val_accuracy: 0.4680\n",
            "Epoch 52/300\n",
            "219/219 [==============================] - 2s 7ms/step - loss: 1.0817 - accuracy: 0.6057 - val_loss: 1.5439 - val_accuracy: 0.4867\n",
            "Epoch 53/300\n",
            "219/219 [==============================] - 2s 7ms/step - loss: 1.0688 - accuracy: 0.6097 - val_loss: 1.5607 - val_accuracy: 0.4847\n",
            "Epoch 54/300\n",
            "219/219 [==============================] - 2s 9ms/step - loss: 1.0715 - accuracy: 0.6157 - val_loss: 1.5775 - val_accuracy: 0.4780\n",
            "Epoch 55/300\n",
            "219/219 [==============================] - 2s 7ms/step - loss: 1.0461 - accuracy: 0.6157 - val_loss: 1.6163 - val_accuracy: 0.4707\n",
            "Epoch 56/300\n",
            "219/219 [==============================] - 2s 7ms/step - loss: 1.0482 - accuracy: 0.6154 - val_loss: 1.5741 - val_accuracy: 0.4747\n",
            "Epoch 57/300\n",
            "219/219 [==============================] - 2s 8ms/step - loss: 1.0390 - accuracy: 0.6180 - val_loss: 1.5729 - val_accuracy: 0.4800\n",
            "Epoch 58/300\n",
            "219/219 [==============================] - 2s 7ms/step - loss: 1.0305 - accuracy: 0.6251 - val_loss: 1.6017 - val_accuracy: 0.4687\n",
            "Epoch 59/300\n",
            "219/219 [==============================] - 2s 7ms/step - loss: 1.0239 - accuracy: 0.6226 - val_loss: 1.5925 - val_accuracy: 0.4707\n",
            "Epoch 60/300\n",
            "219/219 [==============================] - 2s 9ms/step - loss: 1.0215 - accuracy: 0.6243 - val_loss: 1.5911 - val_accuracy: 0.4700\n",
            "Epoch 61/300\n",
            "219/219 [==============================] - 2s 7ms/step - loss: 1.0094 - accuracy: 0.6291 - val_loss: 1.5702 - val_accuracy: 0.4833\n",
            "Epoch 62/300\n",
            "219/219 [==============================] - 2s 7ms/step - loss: 1.0105 - accuracy: 0.6323 - val_loss: 1.5976 - val_accuracy: 0.4807\n",
            "Epoch 63/300\n",
            "219/219 [==============================] - 2s 8ms/step - loss: 1.0017 - accuracy: 0.6326 - val_loss: 1.6401 - val_accuracy: 0.4647\n",
            "Epoch 64/300\n",
            "219/219 [==============================] - 2s 7ms/step - loss: 0.9937 - accuracy: 0.6334 - val_loss: 1.6147 - val_accuracy: 0.4807\n",
            "Epoch 65/300\n",
            "219/219 [==============================] - 2s 9ms/step - loss: 0.9944 - accuracy: 0.6306 - val_loss: 1.6621 - val_accuracy: 0.4620\n",
            "Epoch 66/300\n",
            "219/219 [==============================] - 2s 7ms/step - loss: 0.9875 - accuracy: 0.6426 - val_loss: 1.6252 - val_accuracy: 0.4647\n",
            "Epoch 67/300\n",
            "219/219 [==============================] - 2s 9ms/step - loss: 0.9926 - accuracy: 0.6351 - val_loss: 1.6502 - val_accuracy: 0.4713\n",
            "Epoch 68/300\n",
            "219/219 [==============================] - 2s 7ms/step - loss: 0.9755 - accuracy: 0.6477 - val_loss: 1.6134 - val_accuracy: 0.4787\n"
          ]
        }
      ]
    },
    {
      "cell_type": "code",
      "metadata": {
        "colab": {
          "base_uri": "https://localhost:8080/"
        },
        "id": "ALHjBXprwIXh",
        "outputId": "fb36ee60-cd38-4518-fb7f-05baa538473c"
      },
      "source": [
        "print(model.evaluate(X_train_small, y_train_small, verbose=0))\n"
      ],
      "execution_count": 32,
      "outputs": [
        {
          "output_type": "stream",
          "name": "stdout",
          "text": [
            "[1.2566795349121094, 0.5450000166893005]\n"
          ]
        }
      ]
    },
    {
      "cell_type": "markdown",
      "metadata": {
        "id": "wk8ZZVunVj08"
      },
      "source": [
        "## 4. Data augmentation\n",
        "\n",
        "☝️ It seems that adding pictures greatly improves model performance! Welcome to the Deep Learning paradigm, where big data does make a difference.\n",
        "\n",
        "To easily improve the accuracy of a model without much work, we can generate new data: the _data augmentation_. This widely used technique consists in applying little transformation to input images without changing its label, as mirroring, cropping, intensity changes, etc. The improved performance simply results from the Neural network training with more different data.\n",
        "\n",
        "The natural way to generate these new images is to apply some transformations and train the model on the original and new images. However, such procedure requires to keep all these images in memory : it can be very intensive, to the point that your computer memory cannot hold any new image (your computer might even crash).\n",
        "\n",
        "For this reason, we will augment the data **on the fly** (batch per batch), meaning that we will create new data, use them to fit the model, then delete them. Here, Keras is our friend as it provides the utils to do all this job for us. Look at the following code : the general writing can seem odd but don't be panicked: just look at the function arguments that defines the augmentation techniques that we will use and that you can check in the  [documentation](https://www.tensorflow.org/api_docs/python/tf/keras/preprocessing/image/ImageDataGenerator)."
      ]
    },
    {
      "cell_type": "code",
      "metadata": {
        "ExecuteTime": {
          "end_time": "2021-04-28T17:30:44.981000Z",
          "start_time": "2021-04-28T17:30:43.704837Z"
        },
        "colab": {
          "base_uri": "https://localhost:8080/"
        },
        "id": "DlOpbos5Vj09",
        "scrolled": false,
        "outputId": "8ba30106-d36f-4989-d145-f33e67dff57a"
      },
      "source": [
        "from tensorflow.keras.preprocessing.image import ImageDataGenerator\n",
        "\n",
        "datagen = ImageDataGenerator(\n",
        "    featurewise_center=False,\n",
        "    featurewise_std_normalization=False,\n",
        "    rotation_range=10,\n",
        "    width_shift_range=0.1,\n",
        "    height_shift_range=0.1,\n",
        "    horizontal_flip=True,\n",
        "    zoom_range=(0.8, 1.2),\n",
        "    ) \n",
        "\n",
        "datagen.fit(X_train)\n",
        "datagen"
      ],
      "execution_count": 33,
      "outputs": [
        {
          "output_type": "execute_result",
          "data": {
            "text/plain": [
              "<keras.preprocessing.image.ImageDataGenerator at 0x7f9b8011ded0>"
            ]
          },
          "metadata": {},
          "execution_count": 33
        }
      ]
    },
    {
      "cell_type": "code",
      "metadata": {
        "ExecuteTime": {
          "end_time": "2021-04-28T17:30:45.856304Z",
          "start_time": "2021-04-28T17:30:45.471890Z"
        },
        "colab": {
          "base_uri": "https://localhost:8080/"
        },
        "id": "Zcl17dW1aA0G",
        "outputId": "3454906a-60c9-48bb-c436-d5330e8ec49f"
      },
      "source": [
        "X_augmented_iterator = datagen.flow(X_train, shuffle=False, batch_size=1)\n",
        "X_augmented_iterator"
      ],
      "execution_count": 34,
      "outputs": [
        {
          "output_type": "execute_result",
          "data": {
            "text/plain": [
              "<keras.preprocessing.image.NumpyArrayIterator at 0x7f9b802a4790>"
            ]
          },
          "metadata": {},
          "execution_count": 34
        }
      ]
    },
    {
      "cell_type": "markdown",
      "metadata": {
        "id": "RdMqg8grVj09"
      },
      "source": [
        "💡 Always visualize your data augmentation in order to double check that you can still recognize the label yourself!"
      ]
    },
    {
      "cell_type": "code",
      "metadata": {
        "colab": {
          "base_uri": "https://localhost:8080/",
          "height": 1000
        },
        "id": "IsqMF0adVj09",
        "scrolled": true,
        "outputId": "4cb69523-7e99-4a4a-a08e-7ef20a0fa8c7"
      },
      "source": [
        "import numpy as np\n",
        "\n",
        "for i, (raw_image, augmented_image) in enumerate(zip(X_train, X_augmented_iterator)):\n",
        "    _, (ax1, ax2) = plt.subplots(1, 2, figsize=(6, 2))\n",
        "    ax1.imshow(raw_image)\n",
        "    ax2.imshow(augmented_image[0])\n",
        "    plt.show()\n",
        "    \n",
        "    if i > 10:\n",
        "        break"
      ],
      "execution_count": 36,
      "outputs": [
        {
          "output_type": "display_data",
          "data": {
            "image/png": "[encoded data removed]",
            "text/plain": [
              "<Figure size 432x144 with 2 Axes>"
            ]
          },
          "metadata": {
            "needs_background": "light"
          }
        },
        {
          "output_type": "display_data",
          "data": {
            "image/png": "[encoded data removed]",
            "text/plain": [
              "<Figure size 432x144 with 2 Axes>"
            ]
          },
          "metadata": {
            "needs_background": "light"
          }
        },
        {
          "output_type": "display_data",
          "data": {
            "image/png": "[encoded data removed]",
            "text/plain": [
              "<Figure size 432x144 with 2 Axes>"
            ]
          },
          "metadata": {
            "needs_background": "light"
          }
        },
        {
          "output_type": "display_data",
          "data": {
            "image/png": "[encoded data removed]",
            "text/plain": [
              "<Figure size 432x144 with 2 Axes>"
            ]
          },
          "metadata": {
            "needs_background": "light"
          }
        },
        {
          "output_type": "display_data",
          "data": {
            "image/png": "[encoded data removed]",
            "text/plain": [
              "<Figure size 432x144 with 2 Axes>"
            ]
          },
          "metadata": {
            "needs_background": "light"
          }
        },
        {
          "output_type": "display_data",
          "data": {
            "image/png": "[encoded data removed]",
            "text/plain": [
              "<Figure size 432x144 with 2 Axes>"
            ]
          },
          "metadata": {
            "needs_background": "light"
          }
        },
        {
          "output_type": "display_data",
          "data": {
            "image/png": "[encoded data removed]",
            "text/plain": [
              "<Figure size 432x144 with 2 Axes>"
            ]
          },
          "metadata": {
            "needs_background": "light"
          }
        },
        {
          "output_type": "display_data",
          "data": {
            "image/png": "[encoded data removed]",
            "text/plain": [
              "<Figure size 432x144 with 2 Axes>"
            ]
          },
          "metadata": {
            "needs_background": "light"
          }
        },
        {
          "output_type": "display_data",
          "data": {
            "image/png": "[encoded data removed]",
            "text/plain": [
              "<Figure size 432x144 with 2 Axes>"
            ]
          },
          "metadata": {
            "needs_background": "light"
          }
        },
        {
          "output_type": "display_data",
          "data": {
            "image/png": "[encoded data removed]",
            "text/plain": [
              "<Figure size 432x144 with 2 Axes>"
            ]
          },
          "metadata": {
            "needs_background": "light"
          }
        },
        {
          "output_type": "display_data",
          "data": {
            "image/png": "[encoded data removed]",
            "text/plain": [
              "<Figure size 432x144 with 2 Axes>"
            ]
          },
          "metadata": {
            "needs_background": "light"
          }
        },
        {
          "output_type": "display_data",
          "data": {
            "image/png": "[encoded data removed]",
            "text/plain": [
              "<Figure size 432x144 with 2 Axes>"
            ]
          },
          "metadata": {
            "needs_background": "light"
          }
        }
      ]
    },
    {
      "cell_type": "markdown",
      "metadata": {
        "id": "LyLlJQrKVj09"
      },
      "source": [
        "❗ **Remark** ❗ In this example, there is one augmented image per initial image. In fact, when your model will use `datagen.flow` in the `fit`, it will create one augmentation per epochs! Indeed, the images in the original dataset will not be provided to the optimizer, only augmented ones instead. (But because the augmentations are performed randomly, this allows both modified images and some very close of the originals).\n",
        "\n",
        "❓ **Question** ❓ Take time to understand the cell below: Previously, we used the `validation_split` argument to let the model separate a training set from the validation one. It is not possible here as **using an image in the training set and its transformation in the validation set is considered as a data leakage**. Therefore, we have to manually define the `validation_data` with the following commands:\n"
      ]
    },
    {
      "cell_type": "code",
      "metadata": {
        "id": "lYOkY7LOVj09",
        "colab": {
          "base_uri": "https://localhost:8080/"
        },
        "outputId": "8330305b-118c-4dac-f738-e099b8ff9db4"
      },
      "source": [
        "from tensorflow.keras.callbacks import EarlyStopping\n",
        "\n",
        "# The model\n",
        "model_aug = initialize_model()\n",
        "model_aug = compile_model(model_aug)\n",
        "\n",
        "# The data generator\n",
        "X_tr = X_train[:40000]\n",
        "y_tr = y_train[:40000]\n",
        "X_val = X_train[40000:]\n",
        "y_val = y_train[40000:]\n",
        "train_flow = datagen.flow(X_tr, y_tr, batch_size=64)\n",
        "\n",
        "# The early stopping criterion\n",
        "es = EarlyStopping(patience=3)\n",
        "\n",
        "# The fit\n",
        "history_aug = model_aug.fit(train_flow, \n",
        "                        epochs=50, \n",
        "                        callbacks=[es], \n",
        "                        validation_data=(X_val, y_val))\n"
      ],
      "execution_count": 37,
      "outputs": [
        {
          "output_type": "stream",
          "name": "stdout",
          "text": [
            "Epoch 1/50\n",
            "625/625 [==============================] - 32s 50ms/step - loss: 2.1222 - accuracy: 0.2162 - val_loss: 1.8586 - val_accuracy: 0.3078\n",
            "Epoch 2/50\n",
            "625/625 [==============================] - 31s 50ms/step - loss: 1.7870 - accuracy: 0.3339 - val_loss: 1.6591 - val_accuracy: 0.3667\n",
            "Epoch 3/50\n",
            "625/625 [==============================] - 31s 50ms/step - loss: 1.6586 - accuracy: 0.3835 - val_loss: 1.5454 - val_accuracy: 0.4222\n",
            "Epoch 4/50\n",
            "625/625 [==============================] - 31s 50ms/step - loss: 1.6007 - accuracy: 0.4029 - val_loss: 1.5423 - val_accuracy: 0.4219\n",
            "Epoch 5/50\n",
            "625/625 [==============================] - 31s 50ms/step - loss: 1.5656 - accuracy: 0.4175 - val_loss: 1.5248 - val_accuracy: 0.4361\n",
            "Epoch 6/50\n",
            "625/625 [==============================] - 32s 50ms/step - loss: 1.5461 - accuracy: 0.4239 - val_loss: 1.5081 - val_accuracy: 0.4415\n",
            "Epoch 7/50\n",
            "625/625 [==============================] - 31s 50ms/step - loss: 1.5259 - accuracy: 0.4356 - val_loss: 1.5296 - val_accuracy: 0.4344\n",
            "Epoch 8/50\n",
            "625/625 [==============================] - 31s 50ms/step - loss: 1.5072 - accuracy: 0.4436 - val_loss: 1.4350 - val_accuracy: 0.4665\n",
            "Epoch 9/50\n",
            "625/625 [==============================] - 31s 50ms/step - loss: 1.4925 - accuracy: 0.4485 - val_loss: 1.4655 - val_accuracy: 0.4397\n",
            "Epoch 10/50\n",
            "625/625 [==============================] - 32s 50ms/step - loss: 1.4831 - accuracy: 0.4525 - val_loss: 1.4792 - val_accuracy: 0.4597\n",
            "Epoch 11/50\n",
            "625/625 [==============================] - 32s 51ms/step - loss: 1.4674 - accuracy: 0.4583 - val_loss: 1.4513 - val_accuracy: 0.4619\n"
          ]
        }
      ]
    },
    {
      "cell_type": "markdown",
      "metadata": {
        "id": "NmQ9t_cMVj0-"
      },
      "source": [
        "❗️❗️ Remark ❗️❗️: The training can be quite long here. Don't hesitate to go to the next exercise and gome back once in a while to finish the last questions\n",
        "\n",
        "❓ **Question** ❓ Now, let's plot the previous and current run histories. What do you think of the data augmentation?\n"
      ]
    },
    {
      "cell_type": "code",
      "metadata": {
        "colab": {
          "base_uri": "https://localhost:8080/"
        },
        "id": "o9r4Fau2Vj0-",
        "tags": [
          "challengify"
        ],
        "outputId": "90743abe-520f-4cf2-bef2-c044a836bd18"
      },
      "source": [
        "print(model_aug.evaluate(train_flow, verbose=0))\n",
        "\n"
      ],
      "execution_count": 38,
      "outputs": [
        {
          "output_type": "stream",
          "name": "stdout",
          "text": [
            "[1.448536992073059, 0.4643250107765198]\n"
          ]
        }
      ]
    },
    {
      "cell_type": "markdown",
      "metadata": {
        "id": "Jm055RyNVj0-"
      },
      "source": [
        "💡 Data augmentation may not improve your performance easily. It strongly depends on the model architecture you used, the learning rate, the type of augmentation chosen, etc...Image classification is an art that takes lots of practice to master!\n",
        "\n",
        "🚨 **Don't spend too much time now trying to finetune your model - you have other interesting challenge ahead**. \n",
        "\n",
        "📚 [here is a good example of solution for future reference](https://machinelearningmastery.com/how-to-develop-a-cnn-from-scratch-for-cifar-10-photo-classification/). They manage to get about 80% accuracy"
      ]
    },
    {
      "cell_type": "markdown",
      "metadata": {
        "id": "Oy4DCYLGVj0-"
      },
      "source": [
        "### 🏁 Congratulation 🏁 \n",
        "Copy this notebook from your google drive into your local data-challenge repo, and commit+push your progress on github. To find where this Colab notebook has been save, click on `File --> Locate in Drive`."
      ]
    },
    {
      "cell_type": "code",
      "metadata": {
        "id": "fkYuyP0_vdl2"
      },
      "source": [
        ""
      ],
      "execution_count": null,
      "outputs": []
    }
  ]
}